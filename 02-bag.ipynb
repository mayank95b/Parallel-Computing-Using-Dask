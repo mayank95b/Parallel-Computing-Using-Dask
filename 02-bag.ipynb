{
 "cells": [
  {
   "cell_type": "markdown",
   "metadata": {},
   "source": [
    "<img src=\"http://dask.readthedocs.io/en/latest/_images/dask_horizontal.svg\"\n",
    "     align=\"right\"\n",
    "     width=\"30%\"\n",
    "     alt=\"Dask logo\\\">\n",
    "# Dask Bags\n",
    "\n",
    "\n",
    "Dask Bag implements operations like `map`, `filter`, `groupby` and aggregations on collections of Python objects. It does this in parallel and in small memory using Python iterators. It is similar to a parallel version of itertools or a Pythonic version of the PySpark RDD.\n",
    "\n",
    "Dask Bags are often used to do simple preprocessing on log files, JSON records, or other user defined Python objects.\n",
    "\n",
    "### Design\n",
    "Dask bags coordinate many Python lists or Iterators, each of which forms a partition of a larger collection.\n",
    "\n",
    "### Common Uses\n",
    "Dask bags are often used to parallelize simple computations on unstructured or semi-structured data like text data, log files, JSON records, or user defined Python objects.\n",
    "\n"
   ]
  },
  {
   "cell_type": "markdown",
   "metadata": {},
   "source": [
    "## Start Dask Client for Dashboard\n",
    "\n",
    "Starting the Dask Client is optional.  It will provide a dashboard which \n",
    "is useful to gain insight on the computation.  \n",
    "\n",
    "The link to the dashboard will become visible when you create the client below.  We recommend having it open on one side of your screen while using your notebook on the other side.  This can take some effort to arrange your windows, but seeing them both at the same is very useful when learning."
   ]
  },
  {
   "cell_type": "code",
   "execution_count": 1,
   "metadata": {},
   "outputs": [
    {
     "data": {
      "text/html": [
       "<table style=\"border: 2px solid white;\">\n",
       "<tr>\n",
       "<td style=\"vertical-align: top; border: 0px solid white\">\n",
       "<h3>Client</h3>\n",
       "<ul>\n",
       "  <li><b>Scheduler: </b>tcp://127.0.0.1:64251\n",
       "  <li><b>Dashboard: </b><a href='http://127.0.0.1:8787/status' target='_blank'>http://127.0.0.1:8787/status</a>\n",
       "</ul>\n",
       "</td>\n",
       "<td style=\"vertical-align: top; border: 0px solid white\">\n",
       "<h3>Cluster</h3>\n",
       "<ul>\n",
       "  <li><b>Workers: </b>4</li>\n",
       "  <li><b>Cores: </b>4</li>\n",
       "  <li><b>Memory: </b>8.50 GB</li>\n",
       "</ul>\n",
       "</td>\n",
       "</tr>\n",
       "</table>"
      ],
      "text/plain": [
       "<Client: scheduler='tcp://127.0.0.1:64251' processes=4 cores=4>"
      ]
     },
     "execution_count": 1,
     "metadata": {},
     "output_type": "execute_result"
    }
   ],
   "source": [
    "from dask.distributed import Client, progress\n",
    "client = Client(n_workers=4, threads_per_worker=1)\n",
    "client"
   ]
  },
  {
   "cell_type": "markdown",
   "metadata": {},
   "source": [
    "## Create Random Data\n",
    "\n",
    "We create a random set of record data and store it to disk as many JSON files.  This will serve as our data for this notebook."
   ]
  },
  {
   "cell_type": "code",
   "execution_count": 5,
   "metadata": {},
   "outputs": [
    {
     "data": {
      "text/plain": [
       "['Jsondata/0.json',\n",
       " 'Jsondata/1.json',\n",
       " 'Jsondata/2.json',\n",
       " 'Jsondata/3.json',\n",
       " 'Jsondata/4.json',\n",
       " 'Jsondata/5.json',\n",
       " 'Jsondata/6.json',\n",
       " 'Jsondata/7.json',\n",
       " 'Jsondata/8.json',\n",
       " 'Jsondata/9.json']"
      ]
     },
     "execution_count": 5,
     "metadata": {},
     "output_type": "execute_result"
    }
   ],
   "source": [
    "import dask\n",
    "import json\n",
    "import os\n",
    "\n",
    "os.makedirs('Jsondata', exist_ok=True)              # Create data/ directory\n",
    "\n",
    "b = dask.datasets.make_people()                 # Make records of people\n",
    "b.map(json.dumps).to_textfiles('Jsondata/*.json')   # Encode as JSON, write to disk"
   ]
  },
  {
   "cell_type": "markdown",
   "metadata": {},
   "source": [
    "## Read JSON data\n",
    "\n",
    "Now that we have some JSON data in a file lets take a look at it with Dask Bag and Python JSON module."
   ]
  },
  {
   "cell_type": "code",
   "execution_count": 6,
   "metadata": {},
   "outputs": [
    {
     "name": "stdout",
     "output_type": "stream",
     "text": [
      "Wall time: 5 ms\n"
     ]
    },
    {
     "data": {
      "text/plain": [
       "dask.bag<map-loa..., npartitions=10>"
      ]
     },
     "execution_count": 6,
     "metadata": {},
     "output_type": "execute_result"
    }
   ],
   "source": [
    "import time\n",
    "import dask.bag as db\n",
    "import json\n",
    "\n",
    "%time b = db.read_text('Jsondata/*.json').map(json.loads)\n",
    "b"
   ]
  },
  {
   "cell_type": "code",
   "execution_count": 7,
   "metadata": {},
   "outputs": [
    {
     "data": {
      "text/plain": [
       "({'age': 48,\n",
       "  'name': ['Tad', 'Barlow'],\n",
       "  'occupation': 'Ironmonger',\n",
       "  'telephone': '279.519.4496',\n",
       "  'address': {'address': '1043 Shafter Walk', 'city': 'Atlantic City'},\n",
       "  'credit-card': {'number': '3780 377319 92901', 'expiration-date': '07/23'}},\n",
       " {'age': 21,\n",
       "  'name': ['Robbie', 'Hoffman'],\n",
       "  'occupation': 'Advertising Agent',\n",
       "  'telephone': '+1-(897)-875-8153',\n",
       "  'address': {'address': '416 Saint Croix Thruway', 'city': 'Douglas'},\n",
       "  'credit-card': {'number': '3457 605880 18823', 'expiration-date': '11/25'}})"
      ]
     },
     "execution_count": 7,
     "metadata": {},
     "output_type": "execute_result"
    }
   ],
   "source": [
    "b.take(2)"
   ]
  },
  {
   "cell_type": "markdown",
   "metadata": {},
   "source": [
    "## Map, Filter, Aggregate\n",
    "\n",
    "We can process this data by filtering out only certain records of interest, mapping functions over it to process our data, and aggregating those results to a total value."
   ]
  },
  {
   "cell_type": "code",
   "execution_count": 8,
   "metadata": {},
   "outputs": [
    {
     "data": {
      "text/plain": [
       "({'age': 48,\n",
       "  'name': ['Tad', 'Barlow'],\n",
       "  'occupation': 'Ironmonger',\n",
       "  'telephone': '279.519.4496',\n",
       "  'address': {'address': '1043 Shafter Walk', 'city': 'Atlantic City'},\n",
       "  'credit-card': {'number': '3780 377319 92901', 'expiration-date': '07/23'}},\n",
       " {'age': 45,\n",
       "  'name': ['Marlin', 'Fisher'],\n",
       "  'occupation': 'Health Service',\n",
       "  'telephone': '055-952-1222',\n",
       "  'address': {'address': '1002 Carver Park', 'city': 'Millbrook'},\n",
       "  'credit-card': {'number': '4921 2361 1927 2548',\n",
       "   'expiration-date': '03/20'}})"
      ]
     },
     "execution_count": 8,
     "metadata": {},
     "output_type": "execute_result"
    }
   ],
   "source": [
    "b.filter(lambda record: record['age'] > 30).take(2)  # Select only people over 30"
   ]
  },
  {
   "cell_type": "code",
   "execution_count": 11,
   "metadata": {},
   "outputs": [
    {
     "data": {
      "text/plain": [
       "('Ironmonger',\n",
       " 'Advertising Agent',\n",
       " 'Applications Programmer',\n",
       " 'Health Service',\n",
       " 'Production Hand')"
      ]
     },
     "execution_count": 11,
     "metadata": {},
     "output_type": "execute_result"
    }
   ],
   "source": [
    "b.map(lambda record: record['occupation']).take(5)  # Select the occupation field"
   ]
  },
  {
   "cell_type": "code",
   "execution_count": 12,
   "metadata": {},
   "outputs": [
    {
     "data": {
      "text/plain": [
       "10000"
      ]
     },
     "execution_count": 12,
     "metadata": {},
     "output_type": "execute_result"
    }
   ],
   "source": [
    "b.count().compute()  # Count total number of records"
   ]
  },
  {
   "cell_type": "markdown",
   "metadata": {},
   "source": [
    "## Chain computations\n",
    "\n",
    "It is common to do many of these steps in one pipeline, only calling `compute` or `take` at the end."
   ]
  },
  {
   "cell_type": "code",
   "execution_count": 13,
   "metadata": {},
   "outputs": [
    {
     "data": {
      "text/plain": [
       "dask.bag<topk-ag..., npartitions=1>"
      ]
     },
     "execution_count": 13,
     "metadata": {},
     "output_type": "execute_result"
    }
   ],
   "source": [
    "result = (b.filter(lambda record: record['age'] > 30)\n",
    "           .map(lambda record: record['occupation'])\n",
    "           .frequencies(sort=True)\n",
    "           .topk(10, key=1))\n",
    "result"
   ]
  },
  {
   "cell_type": "markdown",
   "metadata": {},
   "source": [
    "As with all lazy Dask collections, we need to call `compute` to actually evaluate our result.  The `take` method used in earlier examples is also like `compute` and will also trigger computation."
   ]
  },
  {
   "cell_type": "code",
   "execution_count": 14,
   "metadata": {},
   "outputs": [
    {
     "data": {
      "text/plain": [
       "[('Sheriff Clerk', 16),\n",
       " ('Inspector', 14),\n",
       " ('Planning Engineer', 14),\n",
       " ('Treasurer', 14),\n",
       " ('Quality Inspector', 14),\n",
       " ('Tyre Technician', 13),\n",
       " ('Garda', 13),\n",
       " ('Leather Worker', 13),\n",
       " ('Wholesale Newspaper', 13),\n",
       " ('Baker', 13)]"
      ]
     },
     "execution_count": 14,
     "metadata": {},
     "output_type": "execute_result"
    }
   ],
   "source": [
    "result.compute()"
   ]
  },
  {
   "cell_type": "markdown",
   "metadata": {},
   "source": [
    "## Transform and Store\n",
    "\n",
    "Sometimes we want to compute aggregations as above, but sometimes we want to store results to disk for future analyses.  For that we can use methods like `to_textfiles` and `json.dumps`, or we can convert to Dask Dataframes and use their storage systems, which we'll see more of in the next section."
   ]
  },
  {
   "cell_type": "code",
   "execution_count": 15,
   "metadata": {},
   "outputs": [
    {
     "data": {
      "text/plain": [
       "['data/processed.0.json',\n",
       " 'data/processed.1.json',\n",
       " 'data/processed.2.json',\n",
       " 'data/processed.3.json',\n",
       " 'data/processed.4.json',\n",
       " 'data/processed.5.json',\n",
       " 'data/processed.6.json',\n",
       " 'data/processed.7.json',\n",
       " 'data/processed.8.json',\n",
       " 'data/processed.9.json']"
      ]
     },
     "execution_count": 15,
     "metadata": {},
     "output_type": "execute_result"
    }
   ],
   "source": [
    "(b.filter(lambda record: record['age'] > 30)  # Select records of interest\n",
    "  .map(json.dumps)                            # Convert Python objects to text\n",
    "  .to_textfiles('data/processed.*.json'))     # Write to local disk"
   ]
  },
  {
   "cell_type": "markdown",
   "metadata": {},
   "source": [
    "## Convert to Dask Dataframes\n",
    "\n",
    "Dask Bags are good for reading in initial data, doing a bit of pre-processing, and then handing off to some other more efficient form like Dask Dataframes.  Dask Dataframes use Pandas internally, and so can be much faster on numeric data and also have more complex algorithms.  \n",
    "\n",
    "However, Dask Dataframes also expect data that is organized as flat columns.  It does not support nested JSON data very well (Bag is better for this).\n",
    "\n"
   ]
  },
  {
   "cell_type": "code",
   "execution_count": 16,
   "metadata": {},
   "outputs": [
    {
     "data": {
      "text/plain": [
       "({'age': 48,\n",
       "  'name': ['Tad', 'Barlow'],\n",
       "  'occupation': 'Ironmonger',\n",
       "  'telephone': '279.519.4496',\n",
       "  'address': {'address': '1043 Shafter Walk', 'city': 'Atlantic City'},\n",
       "  'credit-card': {'number': '3780 377319 92901', 'expiration-date': '07/23'}},)"
      ]
     },
     "execution_count": 16,
     "metadata": {},
     "output_type": "execute_result"
    }
   ],
   "source": [
    "b.take(1)"
   ]
  },
  {
   "cell_type": "markdown",
   "metadata": {},
   "source": [
    "Here we make a function to flatten down our nested data structure, map that across our records, and then convert that to a Dask Dataframe."
   ]
  },
  {
   "cell_type": "code",
   "execution_count": 17,
   "metadata": {},
   "outputs": [
    {
     "data": {
      "text/plain": [
       "({'age': 48,\n",
       "  'occupation': 'Ironmonger',\n",
       "  'telephone': '279.519.4496',\n",
       "  'credit-card-number': '3780 377319 92901',\n",
       "  'credit-card-expiration': '07/23',\n",
       "  'name': 'Tad Barlow',\n",
       "  'street-address': '1043 Shafter Walk',\n",
       "  'city': 'Atlantic City'},)"
      ]
     },
     "execution_count": 17,
     "metadata": {},
     "output_type": "execute_result"
    }
   ],
   "source": [
    "def flatten(record):\n",
    "    return {\n",
    "        'age': record['age'],\n",
    "        'occupation': record['occupation'],\n",
    "        'telephone': record['telephone'],\n",
    "        'credit-card-number': record['credit-card']['number'],\n",
    "        'credit-card-expiration': record['credit-card']['expiration-date'],\n",
    "        'name': ' '.join(record['name']),\n",
    "        'street-address': record['address']['address'],\n",
    "        'city': record['address']['city']   \n",
    "    }\n",
    "\n",
    "b.map(flatten).take(1)"
   ]
  },
  {
   "cell_type": "code",
   "execution_count": 18,
   "metadata": {},
   "outputs": [
    {
     "data": {
      "text/html": [
       "<div>\n",
       "<style scoped>\n",
       "    .dataframe tbody tr th:only-of-type {\n",
       "        vertical-align: middle;\n",
       "    }\n",
       "\n",
       "    .dataframe tbody tr th {\n",
       "        vertical-align: top;\n",
       "    }\n",
       "\n",
       "    .dataframe thead th {\n",
       "        text-align: right;\n",
       "    }\n",
       "</style>\n",
       "<table border=\"1\" class=\"dataframe\">\n",
       "  <thead>\n",
       "    <tr style=\"text-align: right;\">\n",
       "      <th></th>\n",
       "      <th>age</th>\n",
       "      <th>city</th>\n",
       "      <th>credit-card-expiration</th>\n",
       "      <th>credit-card-number</th>\n",
       "      <th>name</th>\n",
       "      <th>occupation</th>\n",
       "      <th>street-address</th>\n",
       "      <th>telephone</th>\n",
       "    </tr>\n",
       "  </thead>\n",
       "  <tbody>\n",
       "    <tr>\n",
       "      <th>0</th>\n",
       "      <td>48</td>\n",
       "      <td>Atlantic City</td>\n",
       "      <td>07/23</td>\n",
       "      <td>3780 377319 92901</td>\n",
       "      <td>Tad Barlow</td>\n",
       "      <td>Ironmonger</td>\n",
       "      <td>1043 Shafter Walk</td>\n",
       "      <td>279.519.4496</td>\n",
       "    </tr>\n",
       "    <tr>\n",
       "      <th>1</th>\n",
       "      <td>21</td>\n",
       "      <td>Douglas</td>\n",
       "      <td>11/25</td>\n",
       "      <td>3457 605880 18823</td>\n",
       "      <td>Robbie Hoffman</td>\n",
       "      <td>Advertising Agent</td>\n",
       "      <td>416 Saint Croix Thruway</td>\n",
       "      <td>+1-(897)-875-8153</td>\n",
       "    </tr>\n",
       "    <tr>\n",
       "      <th>2</th>\n",
       "      <td>18</td>\n",
       "      <td>Lenoir</td>\n",
       "      <td>05/17</td>\n",
       "      <td>3706 740728 04978</td>\n",
       "      <td>Perry Estrada</td>\n",
       "      <td>Applications Programmer</td>\n",
       "      <td>160 El Camino Del Mar Annex</td>\n",
       "      <td>1-605-404-1115</td>\n",
       "    </tr>\n",
       "    <tr>\n",
       "      <th>3</th>\n",
       "      <td>45</td>\n",
       "      <td>Millbrook</td>\n",
       "      <td>03/20</td>\n",
       "      <td>4921 2361 1927 2548</td>\n",
       "      <td>Marlin Fisher</td>\n",
       "      <td>Health Service</td>\n",
       "      <td>1002 Carver Park</td>\n",
       "      <td>055-952-1222</td>\n",
       "    </tr>\n",
       "    <tr>\n",
       "      <th>4</th>\n",
       "      <td>45</td>\n",
       "      <td>National City</td>\n",
       "      <td>11/23</td>\n",
       "      <td>5449 8883 0242 4433</td>\n",
       "      <td>Donnetta Spencer</td>\n",
       "      <td>Production Hand</td>\n",
       "      <td>858 Alma Park</td>\n",
       "      <td>353.483.9555</td>\n",
       "    </tr>\n",
       "  </tbody>\n",
       "</table>\n",
       "</div>"
      ],
      "text/plain": [
       "   age           city credit-card-expiration   credit-card-number  \\\n",
       "0   48  Atlantic City                  07/23    3780 377319 92901   \n",
       "1   21        Douglas                  11/25    3457 605880 18823   \n",
       "2   18         Lenoir                  05/17    3706 740728 04978   \n",
       "3   45      Millbrook                  03/20  4921 2361 1927 2548   \n",
       "4   45  National City                  11/23  5449 8883 0242 4433   \n",
       "\n",
       "               name               occupation               street-address  \\\n",
       "0        Tad Barlow               Ironmonger            1043 Shafter Walk   \n",
       "1    Robbie Hoffman        Advertising Agent      416 Saint Croix Thruway   \n",
       "2     Perry Estrada  Applications Programmer  160 El Camino Del Mar Annex   \n",
       "3     Marlin Fisher           Health Service             1002 Carver Park   \n",
       "4  Donnetta Spencer          Production Hand                858 Alma Park   \n",
       "\n",
       "           telephone  \n",
       "0       279.519.4496  \n",
       "1  +1-(897)-875-8153  \n",
       "2     1-605-404-1115  \n",
       "3       055-952-1222  \n",
       "4       353.483.9555  "
      ]
     },
     "execution_count": 18,
     "metadata": {},
     "output_type": "execute_result"
    }
   ],
   "source": [
    "df = b.map(flatten).to_dataframe()\n",
    "df.head()"
   ]
  },
  {
   "cell_type": "markdown",
   "metadata": {},
   "source": [
    "We can now perform the same computation as before, but now using Pandas and Dask dataframe."
   ]
  },
  {
   "cell_type": "code",
   "execution_count": 19,
   "metadata": {},
   "outputs": [
    {
     "data": {
      "text/plain": [
       "Sheriff Clerk          16\n",
       "Planning Engineer      14\n",
       "Inspector              14\n",
       "Quality Inspector      14\n",
       "Treasurer              14\n",
       "Baker                  13\n",
       "Garda                  13\n",
       "Leather Worker         13\n",
       "Tyre Technician        13\n",
       "Wholesale Newspaper    13\n",
       "Name: occupation, dtype: int64"
      ]
     },
     "execution_count": 19,
     "metadata": {},
     "output_type": "execute_result"
    }
   ],
   "source": [
    "df[df.age > 30].occupation.value_counts().nlargest(10).compute()"
   ]
  }
 ],
 "metadata": {
  "kernelspec": {
   "display_name": "Python 3",
   "language": "python",
   "name": "python3"
  },
  "language_info": {
   "codemirror_mode": {
    "name": "ipython",
    "version": 3
   },
   "file_extension": ".py",
   "mimetype": "text/x-python",
   "name": "python",
   "nbconvert_exporter": "python",
   "pygments_lexer": "ipython3",
   "version": "3.7.1"
  }
 },
 "nbformat": 4,
 "nbformat_minor": 2
}
